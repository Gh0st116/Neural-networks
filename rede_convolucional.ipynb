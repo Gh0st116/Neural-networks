{
  "nbformat": 4,
  "nbformat_minor": 0,
  "metadata": {
    "colab": {
      "provenance": [],
      "toc_visible": true,
      "authorship_tag": "ABX9TyOunexOpaQRliHwnC+x5jxg",
      "include_colab_link": true
    },
    "kernelspec": {
      "name": "python3",
      "display_name": "Python 3"
    },
    "language_info": {
      "name": "python"
    }
  },
  "cells": [
    {
      "cell_type": "markdown",
      "metadata": {
        "id": "view-in-github",
        "colab_type": "text"
      },
      "source": [
        "<a href=\"https://colab.research.google.com/github/Gh0st116/Neural-networks/blob/main/rede_convolucional.ipynb\" target=\"_parent\"><img src=\"https://colab.research.google.com/assets/colab-badge.svg\" alt=\"Open In Colab\"/></a>"
      ]
    },
    {
      "cell_type": "code",
      "execution_count": null,
      "metadata": {
        "colab": {
          "base_uri": "https://localhost:8080/",
          "height": 1000
        },
        "id": "U3HN0NI8XGXw",
        "outputId": "e7babaa5-2add-43f3-f283-2b620e6cd452"
      },
      "outputs": [
        {
          "output_type": "stream",
          "name": "stdout",
          "text": [
            "Downloading data from https://storage.googleapis.com/tensorflow/tf-keras-datasets/mnist.npz\n",
            "11490434/11490434 [==============================] - 1s 0us/step\n",
            "train imagens original shape: (60000, 28, 28)\n",
            "train labels original shape: (60000,)\n"
          ]
        },
        {
          "output_type": "display_data",
          "data": {
            "text/plain": [
              "<Figure size 576x288 with 8 Axes>"
            ],
            "image/png": "[encoded data removed]"
          },
          "metadata": {}
        },
        {
          "output_type": "stream",
          "name": "stdout",
          "text": [
            "train images new shape: (60000, 28, 28, 1)\n",
            "Model: \"rede_IF_CNN_MNIST\"\n",
            "_________________________________________________________________\n",
            " Layer (type)                Output Shape              Param #   \n",
            "=================================================================\n",
            " conv2d (Conv2D)             (None, 24, 24, 12)        312       \n",
            "                                                                 \n",
            " max_pooling2d (MaxPooling2D  (None, 12, 12, 12)       0         \n",
            " )                                                               \n",
            "                                                                 \n",
            " conv2d_1 (Conv2D)           (None, 10, 10, 24)        2616      \n",
            "                                                                 \n",
            " max_pooling2d_1 (MaxPooling  (None, 5, 5, 24)         0         \n",
            " 2D)                                                             \n",
            "                                                                 \n",
            " flatten (Flatten)           (None, 600)               0         \n",
            "                                                                 \n",
            " dense (Dense)               (None, 10)                6010      \n",
            "                                                                 \n",
            "=================================================================\n",
            "Total params: 8,938\n",
            "Trainable params: 8,938\n",
            "Non-trainable params: 0\n",
            "_________________________________________________________________\n",
            "Epoch 1/8\n",
            "1875/1875 [==============================] - 29s 15ms/step - loss: 0.1568 - accuracy: 0.9520\n",
            "Epoch 2/8\n",
            "1875/1875 [==============================] - 23s 12ms/step - loss: 0.0558 - accuracy: 0.9828\n",
            "Epoch 3/8\n",
            "1875/1875 [==============================] - 23s 12ms/step - loss: 0.0428 - accuracy: 0.9870\n",
            "Epoch 4/8\n",
            "1875/1875 [==============================] - 22s 12ms/step - loss: 0.0353 - accuracy: 0.9890\n",
            "Epoch 5/8\n",
            "1875/1875 [==============================] - 22s 12ms/step - loss: 0.0293 - accuracy: 0.9903\n",
            "Epoch 6/8\n",
            "1875/1875 [==============================] - 23s 12ms/step - loss: 0.0252 - accuracy: 0.9921\n",
            "Epoch 7/8\n",
            "1875/1875 [==============================] - 22s 12ms/step - loss: 0.0214 - accuracy: 0.9928\n",
            "Epoch 8/8\n",
            "1875/1875 [==============================] - 23s 12ms/step - loss: 0.0186 - accuracy: 0.9940\n",
            "313/313 [==============================] - 2s 5ms/step\n",
            "313/313 - 2s - loss: 0.0397 - accuracy: 0.9893 - 2s/epoch - 5ms/step\n",
            "\n",
            " acuracia dos dados de teste:  0.989300012588501\n",
            "data and pred = \n",
            " [[7 7]\n",
            " [2 2]\n",
            " [1 1]\n",
            " [0 0]\n",
            " [4 4]\n",
            " [1 1]\n",
            " [4 4]\n",
            " [9 9]\n",
            " [5 5]\n",
            " [9 9]\n",
            " [0 0]\n",
            " [6 6]\n",
            " [9 9]\n",
            " [0 0]\n",
            " [1 1]]\n"
          ]
        },
        {
          "output_type": "display_data",
          "data": {
            "text/plain": [
              "<Figure size 432x288 with 2 Axes>"
            ],
            "image/png": "[encoded data removed]"
          },
          "metadata": {
            "needs_background": "light"
          }
        }
      ],
      "source": [
        "import tensorflow as tf\n",
        "import numpy as np\n",
        "import matplotlib.pyplot as plt\n",
        "\n",
        "#importa o dataset (as imagens da base \"mnist\")\n",
        "mnist = tf.keras.datasets.mnist\n",
        "(train_images, train_labels), (test_images, test_labels) = mnist.load_data()\n",
        "\n",
        "#inspeciona o data set\n",
        "print('train imagens original shape:', train_images.shape)\n",
        "print('train labels original shape:', train_labels.shape)\n",
        "\n",
        "plt.rcParams.update({'font.size': 14})\n",
        "plt.figure(figsize=(8, 4))\n",
        "for i in range(2 * 4):\n",
        "  plt.subplot(2, 4, i + 1)\n",
        "  plt.xticks([])\n",
        "  plt.yticks([])\n",
        "  plt.imshow(train_images[i], cmap=plt.cm.binary)\n",
        "  plt.xlabel(str(train_labels[i]))\n",
        "plt.show()\n",
        "\n",
        "#prepara o data set\n",
        "train_images = train_images.reshape((60000, 28, 28, 1))\n",
        "train_images = train_images.astype('float32') / 255\n",
        "\n",
        "test_images = test_images.reshape((10000, 28, 28, 1))\n",
        "test_images = test_images.astype('float32') / 255\n",
        "\n",
        "#inspeciona os dados preparados\n",
        "print ('train images new shape:', train_images.shape)\n",
        "\n",
        "N_class=10\n",
        "\n",
        "#Criando a rede neural\n",
        "model = tf.keras.Sequential(name='rede_IF_CNN_MNIST')\n",
        "\n",
        "#Adicionando as camadas\n",
        "model.add(tf.keras.layers.Conv2D(12, (5, 5),\n",
        "                                 activation='relu', input_shape=(28, 28, 1)))\n",
        "model.add(tf.keras.layers.MaxPooling2D((2, 2)))\n",
        "model.add(tf.keras.layers.Conv2D(24, (3, 3), activation='relu'))\n",
        "model.add(tf.keras.layers.MaxPooling2D((2, 2)))\n",
        "model.add(tf.keras.layers.Flatten())\n",
        "model.add(tf.keras.layers.Dense(N_class, activation='softmax'))\n",
        "\n",
        "#compilando a rede\n",
        "opt=tf.keras.optimizers.Adam(learning_rate=0.002)\n",
        "model.compile(optimizer=opt, loss='sparse_categorical_crossentropy',\n",
        "              metrics=['accuracy'])\n",
        "model.summary()\n",
        "\n",
        "# treinando a rede\n",
        "history=model.fit(train_images, train_labels, epochs=8, verbose=1)\n",
        "\n",
        "#mostra a performace do treinamento da rede\n",
        "plt.figure()\n",
        "plt.subplot(2, 1, 1)\n",
        "plt.semilogy(history.history['loss'], 'k')\n",
        "plt.legend(['loss'])\n",
        "plt.subplot(2, 1, 2)\n",
        "plt.plot(history.history['accuracy'], 'k')\n",
        "plt.legend(['acuracia'])\n",
        "plt.tight_layout()\n",
        "\n",
        "#testando a rede com os dados de teste\n",
        "pred = model.predict(test_images)\n",
        "test_loss, test_acc = model.evaluate(test_images, test_labels, verbose=2)\n",
        "print('\\n acuracia dos dados de teste: ', test_acc)\n",
        "\n",
        "#encontra a classe de maior probabilidade\n",
        "labels_pred = np.argmax(pred, axis=1)\n",
        "\n",
        "#mostra 15 resultados esperados e os alcançados lado a lado\n",
        "print('data and pred = \\n', np.concatenate(\n",
        "    (test_labels[None].T[0:15], labels_pred[None].T[0:15]), axis=1))"
      ]
    }
  ]
}