{
  "nbformat": 4,
  "nbformat_minor": 0,
  "metadata": {
    "colab": {
      "provenance": [],
      "authorship_tag": "ABX9TyMhXCYRZU0VvLSMFmwd7ONP",
      "include_colab_link": true
    },
    "kernelspec": {
      "name": "python3",
      "display_name": "Python 3"
    },
    "language_info": {
      "name": "python"
    }
  },
  "cells": [
    {
      "cell_type": "markdown",
      "metadata": {
        "id": "view-in-github",
        "colab_type": "text"
      },
      "source": [
        "<a href=\"https://colab.research.google.com/github/Gh0st116/Neural-networks/blob/main/primeira_rede_neural.ipynb\" target=\"_parent\"><img src=\"https://colab.research.google.com/assets/colab-badge.svg\" alt=\"Open In Colab\"/></a>"
      ]
    },
    {
      "cell_type": "markdown",
      "source": [
        "\n",
        "*   Tensorflow = inclui o keras, para rede neural\n",
        "*   Numpy = manipulação de vetores dos dados\n",
        "*   Matplotlib.pyplot = gráficos dos resultados e do loss\n",
        "\n",
        "\n",
        "Os dados de treinamento são:\n",
        "\n",
        "xs (entradas): [-1.0, 0.0, 1.0, 2.0, 3.0, 4.0]\n",
        "\n",
        "ys (saídas): [-3.0, -1.0, 1.0, 3.0, 5.0, 7.0]\n",
        "\n",
        "Usamos uma função para calcular as saídas, e a rede precisa descobrir como chegamos nesses resultados"
      ],
      "metadata": {
        "id": "mg_JMVE6yWbS"
      }
    },
    {
      "cell_type": "code",
      "execution_count": null,
      "metadata": {
        "colab": {
          "base_uri": "https://localhost:8080/"
        },
        "id": "KJiKMjZSsA8i",
        "outputId": "d2db137e-f58c-4759-8ab6-21a9e6f3b6c4"
      },
      "outputs": [
        {
          "output_type": "stream",
          "name": "stdout",
          "text": [
            "1/1 [==============================] - 0s 126ms/step\n",
            "y(10) =  [[18.999928]]\n"
          ]
        }
      ],
      "source": [
        "# Rede simples de regressao linear\n",
        "import tensorflow as tf\n",
        "import numpy as np\n",
        "import matplotlib.pyplot as plt\n",
        "\n",
        "# Definindo a rede\n",
        "model = tf.keras.Sequential([tf.keras.layers.Dense(units = 1, input_shape = [1])])\n",
        "\n",
        "# Configurando e compilando a rede\n",
        "model.compile(optimizer = 'sgd', loss = 'mean_squared_error')\n",
        "\n",
        "# Train data\n",
        "xs = np.array([-1.0, 0.0, 1.0, 2.0, 3.0, 4.0], dtype = float)\n",
        "ys = 2 * xs - 1\n",
        "\n",
        "# Treinando a rede\n",
        "history = model.fit(xs, ys, epochs = 1000, verbose = 0)\n",
        "\n",
        "# Test data\n",
        "print('y(10) = ', model.predict([10.0]))"
      ]
    },
    {
      "cell_type": "code",
      "source": [
        "# Rede completa para regressao linear\n",
        "import tensorflow as tf\n",
        "import numpy as np\n",
        "import matplotlib.pyplot as plt\n",
        "\n",
        "# D train (data set)\n",
        "xs = np.array([-1.0, 0.0, 1.0, 2.0, 3.0, 4.0], dtype = float)\n",
        "ys = 2 * xs - 1\n",
        "\n",
        "# Criando a rede neural\n",
        "model = tf.keras.Sequential(name = 'rede_IF_01')\n",
        "\n",
        "# Configurando a primeira camada da rede\n",
        "model.add(tf.keras.layers.Dense(1, input_dim = 1, use_bias = 1, activation = 'linear'))\n",
        "\n",
        "# Compilando a rede\n",
        "opt = tf.keras.optimizers.SGD(learning_rate = 0.01, momentum = 0.0)\n",
        "\n",
        "# Otimizador e funcao loss sao obrigatorias, mas funcao de metrica nao\n",
        "model.compile(optimizer = opt, loss = 'mean_squared_error', metrics = 'mean_absolute_error')\n",
        "print(model.summary())\n",
        "\n",
        "# Treinando a rede\n",
        "history = model.fit(xs, ys, epochs = 1000, verbose = 0)\n",
        "\n",
        "# Testando a rede\n",
        "xs_test = np.linspace(-2, 2, 11)\n",
        "ys_test = model.predict(xs_test)\n",
        "\n",
        "\n",
        "# Fazendo os gráficos\n",
        "plt.rcParams.update({'font.size': 12})\n",
        "plt.figure()\n",
        "plt.plot(xs_test, ys_test, 'r.')\n",
        "plt.plot(xs_test, (2 * xs_test - 1), 'b-')\n",
        "plt.legend(['Previsões', 'Reta original'])\n",
        "plt.xlabel('x')\n",
        "plt.ylabel('y')\n",
        "\n",
        "# Mostra os dados em history\n",
        "print(history.history.keys())\n",
        "\n",
        "# Plota o loss e a metrica\n",
        "plt.figure()\n",
        "plt.subplot(2, 1, 1)\n",
        "plt.plot(history.history['loss'], 'k')\n",
        "plt.legend(['Loss'])\n",
        "plt.subplot(2, 1, 2)\n",
        "plt.plot(history.history['mean_absolute_error'], 'k--')\n",
        "plt.legend(['Métrica'])\n",
        "plt.xlabel('Epoch')\n",
        "plt.tight_layout()\n",
        "plt.show()"
      ],
      "metadata": {
        "colab": {
          "base_uri": "https://localhost:8080/",
          "height": 804
        },
        "id": "ZHyt124XutLb",
        "outputId": "1b3eff1d-08f6-44db-c16f-491ccf0a524b"
      },
      "execution_count": null,
      "outputs": [
        {
          "output_type": "stream",
          "name": "stdout",
          "text": [
            "Model: \"rede_IF_01\"\n",
            "_________________________________________________________________\n",
            " Layer (type)                Output Shape              Param #   \n",
            "=================================================================\n",
            " dense_3 (Dense)             (None, 1)                 2         \n",
            "                                                                 \n",
            "=================================================================\n",
            "Total params: 2\n",
            "Trainable params: 2\n",
            "Non-trainable params: 0\n",
            "_________________________________________________________________\n",
            "None\n",
            "1/1 [==============================] - 0s 42ms/step\n",
            "dict_keys(['loss', 'mean_absolute_error'])\n"
          ]
        },
        {
          "output_type": "display_data",
          "data": {
            "text/plain": [
              "<Figure size 432x288 with 1 Axes>"
            ],
            "image/png": "[encoded data removed]"
          },
          "metadata": {
            "needs_background": "light"
          }
        },
        {
          "output_type": "display_data",
          "data": {
            "text/plain": [
              "<Figure size 432x288 with 2 Axes>"
            ],
            "image/png": "[encoded data removed]"
          },
          "metadata": {
            "needs_background": "light"
          }
        }
      ]
    }
  ]
}